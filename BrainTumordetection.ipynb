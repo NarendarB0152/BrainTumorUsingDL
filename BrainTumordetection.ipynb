{
  "nbformat": 4,
  "nbformat_minor": 0,
  "metadata": {
    "colab": {
      "provenance": [],
      "authorship_tag": "ABX9TyMaRVucDCfPPYZzdKJw+kzG",
      "include_colab_link": true
    },
    "kernelspec": {
      "name": "python3",
      "display_name": "Python 3"
    },
    "language_info": {
      "name": "python"
    }
  },
  "cells": [
    {
      "cell_type": "markdown",
      "metadata": {
        "id": "view-in-github",
        "colab_type": "text"
      },
      "source": [
        "<a href=\"https://colab.research.google.com/github/NarendarB0152/BrainTumorUsingDL/blob/main/BrainTumordetection.ipynb\" target=\"_parent\"><img src=\"https://colab.research.google.com/assets/colab-badge.svg\" alt=\"Open In Colab\"/></a>"
      ]
    },
    {
      "cell_type": "code",
      "execution_count": 1,
      "metadata": {
        "id": "QOLKAAKuvC4-"
      },
      "outputs": [],
      "source": [
        "import pandas as pd\n",
        "import numpy as np\n",
        "import matplotlib.pyplot as plt\n",
        "import os, shutil\n",
        "import cv2\n",
        "import matplotlib.image as mpimg\n",
        "%matplotlib inline\n",
        "plt.style.use('ggplot')"
      ]
    },
    {
      "cell_type": "code",
      "source": [
        "import zipfile\n",
        "z=zipfile.ZipFile('archive.zip')\n",
        "z.extractall()"
      ],
      "metadata": {
        "id": "xw8qP7J2y683"
      },
      "execution_count": 2,
      "outputs": []
    },
    {
      "cell_type": "code",
      "source": [
        "folder='brain_tumor_dataset/yes/'\n",
        "count=1\n",
        "for filename in os.listdir(folder):\n",
        "  source=folder+filename\n",
        "  destination=folder+\"Y_\"+str(count)+\".jpg\"\n",
        "  os.rename(source,destination)\n",
        "  count+=1\n",
        "print(\"All files are renamed in the yes dir.\")\n"
      ],
      "metadata": {
        "colab": {
          "base_uri": "https://localhost:8080/"
        },
        "id": "oos_bTgnzxX0",
        "outputId": "55af785a-d9ec-41c2-8eef-8a441d1b5df3"
      },
      "execution_count": 3,
      "outputs": [
        {
          "output_type": "stream",
          "name": "stdout",
          "text": [
            "All files are renamed in the yes dir.\n"
          ]
        }
      ]
    },
    {
      "cell_type": "code",
      "source": [
        "folder=\"brain_tumor_dataset/no/\"\n",
        "count=1\n",
        "for filename in os.listdir(folder):\n",
        "  source=folder+filename\n",
        "  destination=folder+\"N_\"+str(count)+\".jpg\"\n",
        "  os.rename(source,destination)\n",
        "  count+=1\n",
        "print(\"All files are renamed in the no dir.\")"
      ],
      "metadata": {
        "colab": {
          "base_uri": "https://localhost:8080/"
        },
        "id": "4__N4FD215u6",
        "outputId": "df689a0f-8d8c-45a6-861e-157d079ab47f"
      },
      "execution_count": 4,
      "outputs": [
        {
          "output_type": "stream",
          "name": "stdout",
          "text": [
            "All files are renamed in the no dir.\n"
          ]
        }
      ]
    },
    {
      "cell_type": "code",
      "source": [],
      "metadata": {
        "id": "MwChPd7u2f9O"
      },
      "execution_count": null,
      "outputs": []
    }
  ]
}