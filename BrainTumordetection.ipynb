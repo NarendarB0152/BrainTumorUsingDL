{
  "nbformat": 4,
  "nbformat_minor": 0,
  "metadata": {
    "colab": {
      "provenance": [],
      "authorship_tag": "ABX9TyONr/y+Wjd+MgE91aZxJLN+",
      "include_colab_link": true
    },
    "kernelspec": {
      "name": "python3",
      "display_name": "Python 3"
    },
    "language_info": {
      "name": "python"
    }
  },
  "cells": [
    {
      "cell_type": "markdown",
      "metadata": {
        "id": "view-in-github",
        "colab_type": "text"
      },
      "source": [
        "<a href=\"https://colab.research.google.com/github/NarendarB0152/BrainTumorUsingDL/blob/main/BrainTumordetection.ipynb\" target=\"_parent\"><img src=\"https://colab.research.google.com/assets/colab-badge.svg\" alt=\"Open In Colab\"/></a>"
      ]
    },
    {
      "cell_type": "code",
      "execution_count": 1,
      "metadata": {
        "id": "QOLKAAKuvC4-"
      },
      "outputs": [],
      "source": [
        "import pandas as pd\n",
        "import numpy as np\n",
        "import matplotlib.pyplot as plt\n",
        "import os, shutil\n",
        "import cv2\n",
        "import matplotlib.image as mpimg\n",
        "%matplotlib inline\n",
        "plt.style.use('ggplot')"
      ]
    },
    {
      "cell_type": "code",
      "source": [
        "import zipfile\n",
        "z=zipfile.ZipFile('archive.zip')\n",
        "z.extractall()"
      ],
      "metadata": {
        "id": "xw8qP7J2y683"
      },
      "execution_count": 2,
      "outputs": []
    },
    {
      "cell_type": "code",
      "source": [
        "folder='brain_tumor_dataset/yes/'\n",
        "count=1\n",
        "for filename in os.listdir(folder):\n",
        "  source=folder+filename\n",
        "  destination=folder+\"Y_\"+str(count)+\".jpg\"\n",
        "  os.rename(source,destination)\n",
        "  count+=1\n",
        "print(\"All files are renamed in the yes dir.\")\n"
      ],
      "metadata": {
        "colab": {
          "base_uri": "https://localhost:8080/"
        },
        "id": "oos_bTgnzxX0",
        "outputId": "82cd0d48-2711-4826-a147-f6dd0411338a"
      },
      "execution_count": 3,
      "outputs": [
        {
          "output_type": "stream",
          "name": "stdout",
          "text": [
            "All files are renamed in the yes dir.\n"
          ]
        }
      ]
    },
    {
      "cell_type": "code",
      "source": [
        "folder=\"brain_tumor_dataset/no/\"\n",
        "count=1\n",
        "for filename in os.listdir(folder):\n",
        "  source=folder+filename\n",
        "  destination=folder+\"N_\"+str(count)+\".jpg\"\n",
        "  os.rename(source,destination)\n",
        "  count+=1\n",
        "print(\"All files are renamed in the no dir.\")"
      ],
      "metadata": {
        "colab": {
          "base_uri": "https://localhost:8080/"
        },
        "id": "4__N4FD215u6",
        "outputId": "1b0f059a-b3c4-4ad5-f975-a4e4100f859f"
      },
      "execution_count": 4,
      "outputs": [
        {
          "output_type": "stream",
          "name": "stdout",
          "text": [
            "All files are renamed in the no dir.\n"
          ]
        }
      ]
    },
    {
      "cell_type": "code",
      "source": [
        "listyes=os.listdir(\"brain_tumor_dataset/yes/\")\n",
        "number_files_yes=len(listyes)\n",
        "print(number_files_yes)\n",
        "\n",
        "listno=os.listdir(\"brain_tumor_dataset/no/\")\n",
        "number_files_no=len(listno)\n",
        "print(number_files_no)"
      ],
      "metadata": {
        "colab": {
          "base_uri": "https://localhost:8080/"
        },
        "id": "MwChPd7u2f9O",
        "outputId": "d62bcd68-65c8-4b13-f072-4d85f837da94"
      },
      "execution_count": 5,
      "outputs": [
        {
          "output_type": "stream",
          "name": "stdout",
          "text": [
            "155\n",
            "98\n"
          ]
        }
      ]
    },
    {
      "cell_type": "code",
      "source": [
        "data={'tumorous':number_files_yes,\"non-tumorous\":number_files_no}\n",
        "typex=data.keys()\n",
        "values=data.values()\n",
        "\n",
        "fig=plt.figure(figsize=(5,7))\n",
        "\n",
        "plt.bar(typex,values,color=\"red\")\n",
        "plt.xlabel(\"Data\")\n",
        "plt.ylabel(\"No of Brain Tumor Images\")\n",
        "plt.title(\"Count of Brain Tumor Images\")\n",
        "plt.show()"
      ],
      "metadata": {
        "colab": {
          "base_uri": "https://localhost:8080/",
          "height": 646
        },
        "id": "q517_tX73y8D",
        "outputId": "50e0d988-e87a-4640-be81-81a1a05aa16e"
      },
      "execution_count": 6,
      "outputs": [
        {
          "output_type": "display_data",
          "data": {
            "text/plain": [
              "<Figure size 500x700 with 1 Axes>"
            ],
            "image/png": "[encoded data removed]"
          },
          "metadata": {}
        }
      ]
    },
    {
      "cell_type": "code",
      "source": [
        "import tensorflow as tf\n",
        "from tensorflow.keras.preprocessing.image import ImageDataGenerator\n",
        "from tensorflow.keras.models import Model\n",
        "from tensorflow.keras.layers import Flatten, Dense, Dropout\n",
        "from tensorflow.keras.applications.vgg19 import VGG19\n",
        "from tensorflow.keras.optimizers import SGD, Adam\n",
        "from tensorflow.keras.callbacks import ModelCheckpoint, EarlyStopping, ReduceLROnPlateau"
      ],
      "metadata": {
        "id": "3y8MlCeH5fz8"
      },
      "execution_count": 7,
      "outputs": []
    },
    {
      "cell_type": "code",
      "source": [
        "def timing(sec_elapsed):\n",
        "  h=int(sec_elapsed/(60*60))\n",
        "  m=int(sec_elapsed%(60*60)/60)\n",
        "  s=sec_elapsed%60\n",
        "  return f\"{h}:{m}:{s}\""
      ],
      "metadata": {
        "id": "Lh7ki9YG4-Mv"
      },
      "execution_count": 8,
      "outputs": []
    },
    {
      "cell_type": "code",
      "source": [
        "def augmented_data(file_dir, n_generated_samples, save_to_dir):\n",
        "    data_gen = ImageDataGenerator(rotation_range=10,\n",
        "                      width_shift_range=0.1,\n",
        "                      height_shift_range=0.1,\n",
        "                      shear_range=0.1,\n",
        "                      brightness_range=(0.3, 1.0),\n",
        "                      horizontal_flip=True,\n",
        "                      vertical_flip=True,\n",
        "                      fill_mode='nearest')\n",
        "    for filename in os.listdir(file_dir):\n",
        "        image = cv2.imread(file_dir + '/' + filename)\n",
        "        image = image.reshape((1,) + image.shape)\n",
        "        save_prefix = 'aug_' + filename[:-4]\n",
        "        i=0\n",
        "        for batch in data_gen.flow(x = image, batch_size = 1, save_to_dir = save_to_dir, save_prefix = save_prefix, save_format = \"jpg\"):\n",
        "            i+=1\n",
        "            if i>n_generated_samples:\n",
        "                break"
      ],
      "metadata": {
        "id": "v8HaMJslRIiD"
      },
      "execution_count": 9,
      "outputs": []
    },
    {
      "cell_type": "code",
      "source": [
        "import time\n",
        "start_time=time.time()\n",
        "yes_path='brain_tumor_dataset/yes/'\n",
        "no_path='brain_tumor_dataset/no/'\n",
        "augmented_data_path='augmented_data/'\n",
        "os.makedirs(augmented_data_path+'yes',exist_ok=True)\n",
        "os.makedirs(augmented_data_path+'no',exist_ok=True)\n",
        "augmented_data(file_dir=yes_path,n_generated_samples=6,save_to_dir=augmented_data_path+'yes')\n",
        "augmented_data(file_dir=no_path,n_generated_samples=9,save_to_dir=augmented_data_path+'no')\n",
        "end_time=time.time()\n",
        "execution_time=end_time-start_time\n",
        "print(f\"Elapsed time: {timing(execution_time)}\")"
      ],
      "metadata": {
        "colab": {
          "base_uri": "https://localhost:8080/"
        },
        "id": "rNdw2T3zRMBD",
        "outputId": "a4899519-6264-406a-92f6-445c256dda38"
      },
      "execution_count": 10,
      "outputs": [
        {
          "output_type": "stream",
          "name": "stdout",
          "text": [
            "Elapsed time: 0:1:52.945149183273315\n"
          ]
        }
      ]
    },
    {
      "cell_type": "code",
      "source": [
        "def data_summary(main_path):\n",
        "    yes_path = \"augmented_data/yes/\"\n",
        "    no_path = \"augmented_data/no/\"\n",
        "\n",
        "    n_pos = len(os.listdir(yes_path))\n",
        "    n_neg = len(os.listdir(no_path))\n",
        "\n",
        "    n = (n_pos + n_neg)\n",
        "\n",
        "    pos_per = (n_pos*100)/n\n",
        "    neg_per = (n_neg*100)/n\n",
        "\n",
        "    print(f\"Number of sample: {n}\")\n",
        "    print(f\"{n_pos} Number of positive sample in percentage: {pos_per}%\")\n",
        "    print(f\"{n_neg} Number of negative sample in percentage: {neg_per}%\")"
      ],
      "metadata": {
        "id": "splg3nidZ7DH"
      },
      "execution_count": 11,
      "outputs": []
    },
    {
      "cell_type": "code",
      "source": [
        "data_summary(augmented_data_path)"
      ],
      "metadata": {
        "colab": {
          "base_uri": "https://localhost:8080/"
        },
        "id": "F9JNUHEjZ8MW",
        "outputId": "f3409a6d-b91f-438d-bdbc-1b5ddc93e9a2"
      },
      "execution_count": 12,
      "outputs": [
        {
          "output_type": "stream",
          "name": "stdout",
          "text": [
            "Number of sample: 2064\n",
            "1085 Number of positive sample in percentage: 52.56782945736434%\n",
            "979 Number of negative sample in percentage: 47.43217054263566%\n"
          ]
        }
      ]
    },
    {
      "cell_type": "code",
      "source": [
        "listyes=os.listdir(\"augmented_data/yes/\")\n",
        "number_files_yes=len(listyes)\n",
        "print(number_files_yes)\n",
        "listno=os.listdir(\"augmented_data/no/\")\n",
        "number_files_no=len(listno)\n",
        "print(number_files_no)"
      ],
      "metadata": {
        "id": "pkC1x935aZOC",
        "colab": {
          "base_uri": "https://localhost:8080/"
        },
        "outputId": "95a25de4-16a0-4126-89fc-1896b895880c"
      },
      "execution_count": 13,
      "outputs": [
        {
          "output_type": "stream",
          "name": "stdout",
          "text": [
            "1085\n",
            "979\n"
          ]
        }
      ]
    },
    {
      "cell_type": "code",
      "source": [
        "data = {'tumorous': number_files_yes, 'non-tumorous': number_files_no}\n",
        "\n",
        "typex = data.keys()\n",
        "values = data.values()\n",
        "\n",
        "fig = plt.figure(figsize=(5,7))\n",
        "\n",
        "plt.bar(typex, values, color=\"red\")\n",
        "\n",
        "plt.xlabel(\"Data\")\n",
        "plt.ylabel(\"No of Brain Tumor Images\")\n",
        "plt.title(\"Count of Brain Tumor Images\")\n",
        "plt.show()"
      ],
      "metadata": {
        "colab": {
          "base_uri": "https://localhost:8080/",
          "height": 646
        },
        "id": "SYKWDfHsdVVS",
        "outputId": "831c8c35-a972-4515-ea3c-57899ebbe4ba"
      },
      "execution_count": 14,
      "outputs": [
        {
          "output_type": "display_data",
          "data": {
            "text/plain": [
              "<Figure size 500x700 with 1 Axes>"
            ],
            "image/png": "[encoded data removed]"
          },
          "metadata": {}
        }
      ]
    },
    {
      "cell_type": "code",
      "source": [],
      "metadata": {
        "id": "t7KbNOnRdqRX"
      },
      "execution_count": null,
      "outputs": []
    }
  ]
}